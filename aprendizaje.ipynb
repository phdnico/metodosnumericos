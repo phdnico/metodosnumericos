{
  "nbformat": 4,
  "nbformat_minor": 0,
  "metadata": {
    "colab": {
      "name": "aprendizaje.ipynb",
      "provenance": [],
      "collapsed_sections": [],
      "authorship_tag": "ABX9TyPElY9W7nvFSySU/hZO9z/c",
      "include_colab_link": true
    },
    "kernelspec": {
      "name": "python3",
      "display_name": "Python 3"
    },
    "language_info": {
      "name": "python"
    }
  },
  "cells": [
    {
      "cell_type": "markdown",
      "metadata": {
        "id": "view-in-github",
        "colab_type": "text"
      },
      "source": [
        "<a href=\"https://colab.research.google.com/github/phdnico/metodosnumericos/blob/main/aprendizaje.ipynb\" target=\"_parent\"><img src=\"https://colab.research.google.com/assets/colab-badge.svg\" alt=\"Open In Colab\"/></a>"
      ]
    },
    {
      "cell_type": "markdown",
      "metadata": {
        "id": "P0tBQonZ3hJ0"
      },
      "source": [
        "## Una prueba de subida"
      ]
    },
    {
      "cell_type": "code",
      "metadata": {
        "id": "s3h0yGe-3eFV"
      },
      "source": [
        "a = \"hola\""
      ],
      "execution_count": null,
      "outputs": []
    }
  ]
}